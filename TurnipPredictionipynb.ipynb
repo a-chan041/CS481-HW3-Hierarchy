{
  "nbformat": 4,
  "nbformat_minor": 0,
  "metadata": {
    "colab": {
      "name": "TurnipPredictionipynb",
      "provenance": [],
      "collapsed_sections": [],
      "include_colab_link": true
    },
    "kernelspec": {
      "name": "python3",
      "display_name": "Python 3"
    }
  },
  "cells": [
    {
      "cell_type": "markdown",
      "metadata": {
        "id": "view-in-github",
        "colab_type": "text"
      },
      "source": [
        "<a href=\"https://colab.research.google.com/github/a-chan041/CS481-HW3-Hierarchy/blob/master/TurnipPredictionipynb.ipynb\" target=\"_parent\"><img src=\"https://colab.research.google.com/assets/colab-badge.svg\" alt=\"Open In Colab\"/></a>"
      ]
    },
    {
      "cell_type": "code",
      "metadata": {
        "id": "1SRiOQh71FHu",
        "colab_type": "code",
        "colab": {}
      },
      "source": [
        "import pandas as pd\n",
        "import numpy as np\n",
        "import matplotlib.pyplot as plt\n",
        "from sklearn.linear_model import LinearRegression\n",
        "from sklearn.datasets import make_regression\n",
        "from sklearn.model_selection import train_test_split\n",
        "\n",
        "#training dataset from Amanda's game: https://docs.google.com/spreadsheets/d/1K-ZOQPAR1iyohC_roXcLYt2hTQPwGTTUStvJGUL6JeA/edit#gid=0\n",
        "# whole numbers are AM days, .5 numbers are prices in the PM; week goes from M-Sat\n",
        "X=[\n",
        "   0, #ex. Tuesday AM\n",
        "   0.5, #Tuesday PM\n",
        "   1,\n",
        "   1.5,\n",
        "   2,\n",
        "   2.5,\n",
        "   3,\n",
        "   3.5,\n",
        "   4,\n",
        "   4.5,\n",
        "   5,\n",
        "   5.5,\n",
        "   6,\n",
        "   6.5, #today: Tuesday Apr 14\n",
        "   7, #4/15\n",
        "   7.5,\n",
        "   8, #4/16\n",
        "   8.5,\n",
        "   9, #4/17\n",
        "   9.5,\n",
        "   10,\n",
        "   10.5,\n",
        "   11, # monday 4/20\n",
        "   11.5,\n",
        "   12,\n",
        "   12.5,\n",
        "   13,\n",
        "   13.5,\n",
        "   14,\n",
        "   14.5,\n",
        "   15, #4/24\n",
        "   15.5,\n",
        "   16,\n",
        "   16.5,\n",
        "   17, # monday 4/27\n",
        "   17.5,\n",
        "   18,\n",
        "   18.5,\n",
        "   19,\n",
        "   19.5,\n",
        "   20, #thu 4/30\n",
        "   20.5, #thu 4/30\n",
        "   21, #fri 5/1\n",
        "   21.5,\n",
        "   22,\n",
        "   22.5,\n",
        "   23, #mon 5/4\n",
        "   23.5,\n",
        "   24 #tues 5/5\n",
        "]\n",
        "\n",
        "Y=[\n",
        "   150,\n",
        "   160,\n",
        "   154, \n",
        "   61,\n",
        "   57,\n",
        "   51,\n",
        "   48,\n",
        "   44,\n",
        "   40,\n",
        "   37,\n",
        "   96,\n",
        "   94,\n",
        "   88, #4/14\n",
        "   84, #4/14\n",
        "   81,\n",
        "   77,\n",
        "   73,\n",
        "   68,\n",
        "   64,\n",
        "   61,\n",
        "   57,\n",
        "   51, \n",
        "   80, #monday 4/20\n",
        "   76,\n",
        "   72,\n",
        "   68,\n",
        "   84,\n",
        "   86,\n",
        "   126,\n",
        "   180,\n",
        "   137,\n",
        "   53,\n",
        "   50,\n",
        "   46,\n",
        "   89,\n",
        "   85,\n",
        "   82,\n",
        "   78,\n",
        "   74,\n",
        "   137,\n",
        "   165, #thu 4/30\n",
        "   169, # thu 4/30\n",
        "   155, \n",
        "   53,\n",
        "   49,\n",
        "   43,\n",
        "   73, #mon 5/4\n",
        "   68, #mon 5/4\n",
        "   63 #tues 5/5\n",
        "\n",
        "   ]\n",
        "   \n",
        "   "
      ],
      "execution_count": 0,
      "outputs": []
    },
    {
      "cell_type": "code",
      "metadata": {
        "id": "jjA3OuzTmlg5",
        "colab_type": "code",
        "outputId": "ac298fd4-7109-4abc-a2cf-3c615fe94e8a",
        "colab": {
          "base_uri": "https://localhost:8080/",
          "height": 1000
        }
      },
      "source": [
        "\n",
        "X = np.array(X).reshape(-1,1)\n",
        "Y = np.array(Y).reshape(-1,1)\n",
        "\n",
        "#returns closest value in X to the paramater\n",
        "def get_closest(val):\n",
        "  abs_X = np.abs(X - val)\n",
        "  small_diff = abs_X.argmin()\n",
        "  closest = X[small_diff]\n",
        "  return closest\n",
        "\n",
        "\n",
        "X_train,X_test,y_train,y_test=train_test_split(X,Y,test_size = .25,random_state=0)\n",
        "\n",
        "\n",
        "model = LinearRegression().fit(np.array(X_train).reshape(-1,1),np.array(y_train).reshape(-1,1))\n",
        "\n",
        "print(model.predict(np.array(X).reshape(-1,1))) # prediction based on complete dataset\n",
        "print(Y)"
      ],
      "execution_count": 0,
      "outputs": [
        {
          "output_type": "stream",
          "text": [
            "[[84.60245455]\n",
            " [84.50657619]\n",
            " [84.41069783]\n",
            " [84.31481947]\n",
            " [84.21894111]\n",
            " [84.12306275]\n",
            " [84.02718438]\n",
            " [83.93130602]\n",
            " [83.83542766]\n",
            " [83.7395493 ]\n",
            " [83.64367094]\n",
            " [83.54779258]\n",
            " [83.45191422]\n",
            " [83.35603585]\n",
            " [83.26015749]\n",
            " [83.16427913]\n",
            " [83.06840077]\n",
            " [82.97252241]\n",
            " [82.87664405]\n",
            " [82.78076569]\n",
            " [82.68488733]\n",
            " [82.58900896]\n",
            " [82.4931306 ]\n",
            " [82.39725224]\n",
            " [82.30137388]\n",
            " [82.20549552]\n",
            " [82.10961716]\n",
            " [82.0137388 ]\n",
            " [81.91786043]\n",
            " [81.82198207]\n",
            " [81.72610371]\n",
            " [81.63022535]\n",
            " [81.53434699]\n",
            " [81.43846863]\n",
            " [81.34259027]\n",
            " [81.2467119 ]\n",
            " [81.15083354]\n",
            " [81.05495518]\n",
            " [80.95907682]\n",
            " [80.86319846]\n",
            " [80.7673201 ]\n",
            " [80.67144174]\n",
            " [80.57556337]\n",
            " [80.47968501]\n",
            " [80.38380665]\n",
            " [80.28792829]\n",
            " [80.19204993]\n",
            " [80.09617157]\n",
            " [80.00029321]]\n",
            "[[150]\n",
            " [160]\n",
            " [154]\n",
            " [ 61]\n",
            " [ 57]\n",
            " [ 51]\n",
            " [ 48]\n",
            " [ 44]\n",
            " [ 40]\n",
            " [ 37]\n",
            " [ 96]\n",
            " [ 94]\n",
            " [ 88]\n",
            " [ 84]\n",
            " [ 81]\n",
            " [ 77]\n",
            " [ 73]\n",
            " [ 68]\n",
            " [ 64]\n",
            " [ 61]\n",
            " [ 57]\n",
            " [ 51]\n",
            " [ 80]\n",
            " [ 76]\n",
            " [ 72]\n",
            " [ 68]\n",
            " [ 84]\n",
            " [ 86]\n",
            " [126]\n",
            " [180]\n",
            " [137]\n",
            " [ 53]\n",
            " [ 50]\n",
            " [ 46]\n",
            " [ 89]\n",
            " [ 85]\n",
            " [ 82]\n",
            " [ 78]\n",
            " [ 74]\n",
            " [137]\n",
            " [165]\n",
            " [169]\n",
            " [155]\n",
            " [ 53]\n",
            " [ 49]\n",
            " [ 43]\n",
            " [ 73]\n",
            " [ 68]\n",
            " [ 63]]\n"
          ],
          "name": "stdout"
        }
      ]
    },
    {
      "cell_type": "code",
      "metadata": {
        "id": "Ql7oaqianCDl",
        "colab_type": "code",
        "outputId": "9a5b53b3-c9c4-45a7-ca65-a32d8d4cc0c5",
        "colab": {
          "base_uri": "https://localhost:8080/",
          "height": 265
        }
      },
      "source": [
        "\n",
        "import matplotlib.pyplot as plt\n",
        "pred = model.predict(X_train)\n",
        "plt.scatter(X, Y)\n",
        "plt.plot(X_train, pred) \n",
        "plt.show() # graph of actual vs prediction \n"
      ],
      "execution_count": 0,
      "outputs": [
        {
          "output_type": "display_data",
          "data": {
            "image/png": "[encoded data removed]",
            "text/plain": [
              "<Figure size 432x288 with 1 Axes>"
            ]
          },
          "metadata": {
            "tags": [],
            "needs_background": "light"
          }
        }
      ]
    },
    {
      "cell_type": "code",
      "metadata": {
        "id": "RGxs_Dcd67xL",
        "colab_type": "code",
        "outputId": "8f68a5d7-b271-4f52-8988-161e735140e7",
        "colab": {
          "base_uri": "https://localhost:8080/",
          "height": 981
        }
      },
      "source": [
        "X=[\n",
        "   0, #ex. Tuesday AM\n",
        "   0.5, #Tuesday PM\n",
        "   1,\n",
        "   1.5,\n",
        "   2,\n",
        "   2.5,\n",
        "   3,\n",
        "   3.5,\n",
        "   4,\n",
        "   4.5,\n",
        "   5,\n",
        "   5.5,\n",
        "   6,\n",
        "   6.5, #today: Tuesday Apr 14\n",
        "   7, #4/15\n",
        "   7.5,\n",
        "   8, #4/16\n",
        "   8.5,\n",
        "   9, #4/17\n",
        "   9.5,\n",
        "   10,\n",
        "   10.5,\n",
        "   11, # monday 4/20\n",
        "   11.5,\n",
        "   12,\n",
        "   12.5,\n",
        "   13,\n",
        "   13.5,\n",
        "   14,\n",
        "   14.5,\n",
        "   15, #4/24\n",
        "   15.5,\n",
        "   16,\n",
        "   16.5,\n",
        "   17, # monday 4/27\n",
        "   17.5,\n",
        "   18,\n",
        "   18.5,\n",
        "   19,\n",
        "   19.5,\n",
        "   20, #thu 4/30\n",
        "   20.5, #thu 4/30\n",
        "   21, #fri 5/1\n",
        "   21.5,\n",
        "   22,\n",
        "   22.5,\n",
        "   23, #mon 5/4\n",
        "   23.5,\n",
        "   24 #tues 5/5\n",
        "]\n",
        "\n",
        "Y=[\n",
        "   150,\n",
        "   160,\n",
        "   154, \n",
        "   61,\n",
        "   57,\n",
        "   51,\n",
        "   48,\n",
        "   44,\n",
        "   40,\n",
        "   37,\n",
        "   96,\n",
        "   94,\n",
        "   88, #4/14\n",
        "   84, #4/14\n",
        "   81,\n",
        "   77,\n",
        "   73,\n",
        "   68,\n",
        "   64,\n",
        "   61,\n",
        "   57,\n",
        "   51, \n",
        "   80, #monday 4/20\n",
        "   76,\n",
        "   72,\n",
        "   68,\n",
        "   84,\n",
        "   86,\n",
        "   126,\n",
        "   180,\n",
        "   137,\n",
        "   53,\n",
        "   50,\n",
        "   46,\n",
        "   89,\n",
        "   85,\n",
        "   82,\n",
        "   78,\n",
        "   74,\n",
        "   137,\n",
        "   165, #thu 4/30\n",
        "   169, # thu 4/30\n",
        "   155, \n",
        "   53,\n",
        "   49,\n",
        "   43,\n",
        "   73, #mon 5/4\n",
        "   68, #mon 5/4\n",
        "   63 #tues 5/5\n",
        "\n",
        "   ]\n",
        "   \n",
        "\n",
        "import pandas as pd\n",
        "df = pd.DataFrame(data = [X,Y], index = [\"days\", \"sell_amount\"]).transpose()\n",
        "\n",
        "def partition(y_scale, max):\n",
        "  split_df = []\n",
        "  t_scale = y_scale\n",
        "  while(t_scale < max):\n",
        "    temp = df[df[\"sell_amount\"] < t_scale]\n",
        "    cond = df['sell_amount'].isin(temp['sell_amount'])\n",
        "    df.drop(df[cond].index, inplace = True)\n",
        "    if(not temp.empty):\n",
        "      split_df.append(temp)\n",
        "    t_scale = y_scale + t_scale\n",
        "  return split_df\n",
        "\n",
        "\n",
        "lis = partition(50,250) #divide data into sections of 50, max value of 250\n",
        "for i in lis:\n",
        "  print(i)\n",
        "\n",
        "def select_split(selection):\n",
        "  X_train,X_test,y_train,y_test=train_test_split(lis[selection][\"days\"],lis[selection][\"sell_amount\"],test_size=.25,random_state=0)\n",
        "  return X_train, y_train\n",
        "def select_model(selection):\n",
        "  X, Y = select_split(selection)\n",
        "  X_train = np.array(X).reshape(-1,1)\n",
        "  model = LinearRegression().fit(X_train,Y)\n",
        "  return model\n"
      ],
      "execution_count": 0,
      "outputs": [
        {
          "output_type": "stream",
          "text": [
            "    days  sell_amount\n",
            "6    3.0         48.0\n",
            "7    3.5         44.0\n",
            "8    4.0         40.0\n",
            "9    4.5         37.0\n",
            "33  16.5         46.0\n",
            "44  22.0         49.0\n",
            "45  22.5         43.0\n",
            "    days  sell_amount\n",
            "3    1.5         61.0\n",
            "4    2.0         57.0\n",
            "5    2.5         51.0\n",
            "10   5.0         96.0\n",
            "11   5.5         94.0\n",
            "12   6.0         88.0\n",
            "13   6.5         84.0\n",
            "14   7.0         81.0\n",
            "15   7.5         77.0\n",
            "16   8.0         73.0\n",
            "17   8.5         68.0\n",
            "18   9.0         64.0\n",
            "19   9.5         61.0\n",
            "20  10.0         57.0\n",
            "21  10.5         51.0\n",
            "22  11.0         80.0\n",
            "23  11.5         76.0\n",
            "24  12.0         72.0\n",
            "25  12.5         68.0\n",
            "26  13.0         84.0\n",
            "27  13.5         86.0\n",
            "31  15.5         53.0\n",
            "32  16.0         50.0\n",
            "34  17.0         89.0\n",
            "35  17.5         85.0\n",
            "36  18.0         82.0\n",
            "37  18.5         78.0\n",
            "38  19.0         74.0\n",
            "43  21.5         53.0\n",
            "46  23.0         73.0\n",
            "47  23.5         68.0\n",
            "48  24.0         63.0\n",
            "    days  sell_amount\n",
            "28  14.0        126.0\n",
            "30  15.0        137.0\n",
            "39  19.5        137.0\n",
            "    days  sell_amount\n",
            "0    0.0        150.0\n",
            "1    0.5        160.0\n",
            "2    1.0        154.0\n",
            "29  14.5        180.0\n",
            "40  20.0        165.0\n",
            "41  20.5        169.0\n",
            "42  21.0        155.0\n"
          ],
          "name": "stdout"
        }
      ]
    },
    {
      "cell_type": "code",
      "metadata": {
        "id": "deSjIWC-Rfva",
        "colab_type": "code",
        "outputId": "0bb18aea-69cc-473c-cd05-ebf2809fb0d9",
        "colab": {
          "base_uri": "https://localhost:8080/",
          "height": 282
        }
      },
      "source": [
        "\n",
        "regr = select_model(0);  #using first set x = {3.0, 3.5, 4.0, 4.5}\n",
        "split_set = select_split(0) \n",
        "plt.scatter(X, Y)\n",
        "pred = regr.predict(np.array(split_set[0]).reshape(-1,1))\n",
        "plt.plot(split_set[0], pred)"
      ],
      "execution_count": 0,
      "outputs": [
        {
          "output_type": "execute_result",
          "data": {
            "text/plain": [
              "[<matplotlib.lines.Line2D at 0x7fbe48e7f6d8>]"
            ]
          },
          "metadata": {
            "tags": []
          },
          "execution_count": 13
        },
        {
          "output_type": "display_data",
          "data": {
            "image/png": "[encoded data removed]",
            "text/plain": [
              "<Figure size 432x288 with 1 Axes>"
            ]
          },
          "metadata": {
            "tags": [],
            "needs_background": "light"
          }
        }
      ]
    },
    {
      "cell_type": "code",
      "metadata": {
        "id": "BnsaFRgaRUCU",
        "colab_type": "code",
        "outputId": "d031164d-dfe0-417a-995e-f202c8ead3bb",
        "colab": {
          "base_uri": "https://localhost:8080/",
          "height": 282
        }
      },
      "source": [
        "\n",
        "regr = select_model(1);  #using second set x = {1.5.....6.5}\n",
        "split_set = select_split(1) \n",
        "plt.scatter(X, Y)\n",
        "pred = regr.predict(np.array(split_set[0]).reshape(-1,1))\n",
        "plt.plot(split_set[0], pred)"
      ],
      "execution_count": 0,
      "outputs": [
        {
          "output_type": "execute_result",
          "data": {
            "text/plain": [
              "[<matplotlib.lines.Line2D at 0x7fbe48df4b38>]"
            ]
          },
          "metadata": {
            "tags": []
          },
          "execution_count": 14
        },
        {
          "output_type": "display_data",
          "data": {
            "image/png": "[encoded data removed]",
            "text/plain": [
              "<Figure size 432x288 with 1 Axes>"
            ]
          },
          "metadata": {
            "tags": [],
            "needs_background": "light"
          }
        }
      ]
    },
    {
      "cell_type": "code",
      "metadata": {
        "id": "mTukZqzfBYNn",
        "colab_type": "code",
        "outputId": "9907d828-6e3b-4a05-d110-6bf7c7054ea0",
        "colab": {
          "base_uri": "https://localhost:8080/",
          "height": 283
        }
      },
      "source": [
        "\n",
        "from sklearn.externals import joblib \n",
        "#save model as diabetes.pkl\n",
        "model_name = \"turnip_model.pk\"\n",
        "count = 1\n",
        "while(lis):\n",
        "  model = select_model(0)\n",
        "  joblib.dump(model, model_name + str(count))\n",
        "  print(lis.pop())\n",
        "  count = count + 1\n",
        "print(list\n",
        "\n",
        "#loading the model\n",
        "model1 = joblib.load('turnip_model.pk3')\n",
        "#predicting\n",
        "y_pred = model1.predict(X_train)\n",
        "plt.plot(X_train, y_pred)\n",
        "result = model1.score(X_test, y_test)\n",
        "print(result)"
      ],
      "execution_count": 0,
      "outputs": [
        {
          "output_type": "stream",
          "text": [
            "-1.0495395006827968\n"
          ],
          "name": "stdout"
        },
        {
          "output_type": "display_data",
          "data": {
            "image/png": "[encoded data removed]",
            "text/plain": [
              "<Figure size 432x288 with 1 Axes>"
            ]
          },
          "metadata": {
            "tags": [],
            "needs_background": "light"
          }
        }
      ]
    }
  ]
}